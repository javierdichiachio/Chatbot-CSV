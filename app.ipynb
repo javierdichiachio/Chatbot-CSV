{
 "cells": [
  {
   "cell_type": "code",
   "execution_count": 1,
   "metadata": {},
   "outputs": [],
   "source": [
    "from langchain_experimental.agents import create_csv_agent\n",
    "from langchain_openai import ChatOpenAI\n",
    "import streamlit as st"
   ]
  },
  {
   "cell_type": "code",
   "execution_count": null,
   "metadata": {},
   "outputs": [],
   "source": [
    "if csv_file is not None and user_api_key:\n",
    "        llm = ChatOpenAI(model=\"gpt-4o\", temperature=0, openai_api_key=user_api_key)\n",
    "        \n",
    "        agent = create_csv_agent(llm,csv_file,agent_type=\"openai-tools\",verbose=True, allow_dangerous_code=True)\n",
    "\n",
    "        user_question = st.text_input(\"Ask a question about the LPs:\", value=st.session_state['user_question'])\n",
    "\n",
    "        if user_question:\n",
    "            with st.spinner(text=\"In progress...\"):\n",
    "                answer = agent.run(user_question)\n",
    "                st.session_state.chat_history.append((user_question, answer))\n",
    "        \n",
    "        if st.session_state['chat_history']:\n",
    "            st.write(\"### Chat History:\")\n",
    "            for question, response in st.session_state['chat_history']:\n",
    "                st.write(f\"**You:** {question}\")\n",
    "                st.write(f\"**RebelBot:** {response}\")"
   ]
  }
 ],
 "metadata": {
  "kernelspec": {
   "display_name": "Python 3",
   "language": "python",
   "name": "python3"
  },
  "language_info": {
   "codemirror_mode": {
    "name": "ipython",
    "version": 3
   },
   "file_extension": ".py",
   "mimetype": "text/x-python",
   "name": "python",
   "nbconvert_exporter": "python",
   "pygments_lexer": "ipython3",
   "version": "3.11.4"
  }
 },
 "nbformat": 4,
 "nbformat_minor": 2
}
